{
 "cells": [
  {
   "cell_type": "code",
   "execution_count": 2,
   "metadata": {},
   "outputs": [],
   "source": [
    "import pandas as pd\n",
    "from lenskit import Recommender\n",
    "from lenskit.algorithms.user_knn import UserUser\n",
    "from lenskit.algorithms.item_knn import ItemItem\n",
    "from lenskit.algorithms.bias import Bias\n",
    "\n",
    "import pickle"
   ]
  },
  {
   "cell_type": "code",
   "execution_count": 3,
   "metadata": {},
   "outputs": [
    {
     "name": "stderr",
     "output_type": "stream",
     "text": [
      "C:\\Users\\nikch\\AppData\\Local\\Temp\\ipykernel_4228\\354924845.py:1: DtypeWarning: Columns (3) have mixed types. Specify dtype option on import or set low_memory=False.\n",
      "  ratings = pd.read_csv(\"./dataset/XWines_Slim_150K_ratings.csv\")\n"
     ]
    }
   ],
   "source": [
    "ratings = pd.read_csv(\"./dataset/XWines_Slim_150K_ratings.csv\")\n",
    "wines = pd.read_csv(\"./dataset/XWines_Slim_1K_wines.csv\")"
   ]
  },
  {
   "cell_type": "code",
   "execution_count": 4,
   "metadata": {},
   "outputs": [],
   "source": [
    "ratings = ratings.rename(columns={'UserID': 'user', 'WineID': 'item', 'Rating': 'rating', 'Date': 'timestamp'})\n",
    "wines = wines.rename(columns={'WineID': 'item'})"
   ]
  },
  {
   "cell_type": "code",
   "execution_count": 5,
   "metadata": {},
   "outputs": [],
   "source": [
    "ratings_data = ratings[['user', 'item', 'rating', 'timestamp']]\n"
   ]
  },
  {
   "cell_type": "code",
   "execution_count": 6,
   "metadata": {},
   "outputs": [
    {
     "data": {
      "text/plain": [
       "<bound method NDFrame.head of            user    item  rating            timestamp\n",
       "0       1356810  103471     4.5  2021-11-02 20:52:59\n",
       "1       1173759  111415     5.0  2015-08-20 17:46:26\n",
       "2       1164877  111395     5.0  2020-11-13 05:40:26\n",
       "3       1207665  111433     5.0  2017-05-05 06:44:13\n",
       "4       1075841  111431     5.0  2016-09-14 20:18:38\n",
       "...         ...     ...     ...                  ...\n",
       "149995  1000052  111468     4.5  2021-12-22 21:03:51\n",
       "149996  1180844  111461     4.0  2017-04-23 21:07:55\n",
       "149997  1218581  113690     3.5  2019-04-14 17:45:08\n",
       "149998  1106198  111468     4.5  2021-07-10 07:00:15\n",
       "149999  1059173  111479     5.0  2019-09-08 15:42:28\n",
       "\n",
       "[150000 rows x 4 columns]>"
      ]
     },
     "metadata": {},
     "output_type": "display_data"
    }
   ],
   "source": [
    "display(ratings_data.head)"
   ]
  },
  {
   "cell_type": "code",
   "execution_count": 9,
   "metadata": {},
   "outputs": [],
   "source": [
    "# bias_model = Bias(items=True, users=True, damping=0.0)\n",
    "# recs_bias = Recommender.adapt(bias_model)\n",
    "# recs_bias.fit(ratings_data)"
   ]
  },
  {
   "cell_type": "code",
   "execution_count": 10,
   "metadata": {},
   "outputs": [],
   "source": [
    "# with open('simple_bias_slim.pkl', 'wb') as file:\n",
    "#     pickle.dump(recs_bias, file)"
   ]
  },
  {
   "cell_type": "code",
   "execution_count": 11,
   "metadata": {},
   "outputs": [],
   "source": [
    "# with open('models/simple_uu_slim.pkl', 'rb') as file:\n",
    "#     loaded_recs = pickle.load(file)"
   ]
  },
  {
   "cell_type": "code",
   "execution_count": 14,
   "metadata": {},
   "outputs": [
    {
     "name": "stderr",
     "output_type": "stream",
     "text": [
      "INFO:root:Loading model: user-user\n",
      "INFO:root:Model user-user loaded successfully.\n"
     ]
    },
    {
     "name": "stdout",
     "output_type": "stream",
     "text": [
      "59770     4.323638\n",
      "21362     4.218077\n",
      "127324    3.977657\n",
      "140509    3.312286\n",
      "144297    3.543610\n",
      "Name: prediction, dtype: float64\n"
     ]
    }
   ],
   "source": [
    "from Recommender import Recommender\n",
    "# Create an instance of the Recommender class\n",
    "recommender = Recommender()\n",
    "recommender.load_model(\"user-user\")\n",
    "\n",
    "# Randomly sample 5 rows from ratings_data\n",
    "test_data = ratings_data[['user']].sample(n=5, random_state=42)\n",
    "\n",
    "# Test the predict method\n",
    "predictions_df = recommender.predict(test_data)\n",
    "print(predictions_df)\n"
   ]
  },
  {
   "cell_type": "code",
   "execution_count": 15,
   "metadata": {},
   "outputs": [
    {
     "name": "stderr",
     "output_type": "stream",
     "text": [
      "INFO:root:Loading model: user-user\n"
     ]
    }
   ],
   "source": [
    "recommender = Recommender()\n",
    "recommender.load_model(\"user-user\")  # or \"item-item\"\n",
    "group_recommendations = recommender.group_recommend(user_ids=[1356810, 1180844], n=5)\n"
   ]
  },
  {
   "cell_type": "code",
   "execution_count": 16,
   "metadata": {},
   "outputs": [
    {
     "name": "stdout",
     "output_type": "stream",
     "text": [
      "     item     score     user\n",
      "0  182711  4.775110  1356810\n",
      "1  183379  4.766891  1356810\n",
      "2  144337  4.766091  1356810\n",
      "3  175514  4.737082  1356810\n",
      "4  192584  4.735993  1356810\n",
      "5  184745  4.634452  1180844\n",
      "6  112664  4.616522  1180844\n",
      "7  104821  4.525125  1180844\n",
      "8  194674  4.500739  1180844\n",
      "9  112084  4.497325  1180844\n"
     ]
    }
   ],
   "source": [
    "print(group_recommendations)"
   ]
  },
  {
   "cell_type": "code",
   "execution_count": 35,
   "metadata": {},
   "outputs": [],
   "source": [
    "from typing import List, Dict\n",
    "\n",
    "def generate_personalized_explanation(user_id: int, recommended_wine: pd.Series, user_ratings: pd.DataFrame, all_wines: pd.DataFrame) -> Dict[str, str]:\n",
    "    \"\"\"\n",
    "    Generate a personalized explanation for a wine recommendation.\n",
    "\n",
    "    Args:\n",
    "        user_id (int): The ID of the user receiving the recommendation.\n",
    "        recommended_wine (pd.Series): The recommended wine's features.\n",
    "        user_ratings (pd.DataFrame): The user's rating history.\n",
    "        all_wines (pd.DataFrame): DataFrame containing all wines and their features.\n",
    "\n",
    "    Returns:\n",
    "        Dict[str, str]: A dictionary of personalized explanations for different features.\n",
    "    \"\"\"\n",
    "    liked_wines = all_wines[all_wines['item'].isin(user_ratings[user_ratings['rating'] >= 4]['item'])]\n",
    "    \n",
    "    explanations = {}\n",
    "    \n",
    "    if len(liked_wines) > 2:\n",
    "        # Function to check if a feature is present in more than 80% of liked wines\n",
    "        def is_frequent_feature(feature_name):\n",
    "            feature_counts = liked_wines[feature_name].value_counts(normalize=True)\n",
    "            return feature_counts[feature_counts >= 0.8].index.tolist()\n",
    "        \n",
    "        # Strategy for string features: Type, Elaborate, Body, Acidity, Country, RegionName, WineryName\n",
    "        string_features = ['Type', 'Elaborate', 'Body', 'Acidity', 'Country', 'RegionName', 'WineryName']\n",
    "        for feature in string_features:\n",
    "            frequent_values = is_frequent_feature(feature)\n",
    "            if recommended_wine[feature] in frequent_values:\n",
    "                explanations[feature] = f\"You've shown a strong preference for {recommended_wine[feature]} in {feature.lower()}, which this wine matches.\"\n",
    "        \n",
    "        # Strategy for ABV\n",
    "        avg_abv = liked_wines['ABV'].mean()\n",
    "        if abs(recommended_wine['ABV'] - avg_abv) <= 1:\n",
    "            explanations['ABV'] = f\"This wine's ABV ({recommended_wine['ABV']}%) is similar to your preferred average of {avg_abv:.1f}%.\"\n",
    "        \n",
    "        # Strategy for Grapes and Harmonize\n",
    "        def process_list_feature(feature_name):\n",
    "            user_items = [item for items in liked_wines[feature_name] for item in items]\n",
    "            recommended_items = recommended_wine[feature_name]\n",
    "            common_items = set(user_items) & set(recommended_items)\n",
    "            if common_items:\n",
    "                if feature_name == 'Grapes':\n",
    "                    return f\"This wine features {', '.join(common_items)} grapes, which are also present among your favourite wines.\"\n",
    "                elif feature_name == 'Harmonize':\n",
    "                    return f\"This wine harmonizes well with {', '.join(common_items)}, which you've enjoyed in other wines.\"\n",
    "\n",
    "            return None\n",
    "        \n",
    "        for feature in ['Grapes', 'Harmonize']:\n",
    "            explanation = process_list_feature(feature)\n",
    "            if explanation:\n",
    "                explanations[feature] = explanation\n",
    "    \n",
    "    else:\n",
    "        explanations['general'] = \"We don't have enough information about your preferences yet, but we think you might enjoy this wine based on its overall characteristics.\"\n",
    "    \n",
    "    return explanations"
   ]
  },
  {
   "cell_type": "code",
   "execution_count": 18,
   "metadata": {},
   "outputs": [],
   "source": [
    "import ast\n",
    "\n",
    "wines['Grapes'] = wines['Grapes'].apply(lambda x: ast.literal_eval(x) if isinstance(x, str) else x)\n",
    "wines['Harmonize'] = wines['Harmonize'].apply(lambda x: ast.literal_eval(x) if isinstance(x, str) else x)"
   ]
  },
  {
   "cell_type": "code",
   "execution_count": 34,
   "metadata": {},
   "outputs": [],
   "source": [
    "def test_explanation_generation_for_user(recommender: Recommender, wines: pd.DataFrame, rating_data: pd.DataFrame, user_id: int):\n",
    "    \"\"\"\n",
    "    Test the generate_personalized_explanation function for a specific user.\n",
    "\n",
    "    Args:\n",
    "        recommender (Recommender): An instance of the Recommender class.\n",
    "        wines (pd.DataFrame): DataFrame containing all wines and their features.\n",
    "        rating_data (pd.DataFrame): DataFrame containing all users' ratings.\n",
    "        user_id (int): The specific user ID to test.\n",
    "    \"\"\"\n",
    "    print(f\"Testing explanations for User ID: {user_id}\")\n",
    "\n",
    "    # Generate recommendations for this user\n",
    "    n_recommendations = 3\n",
    "    recommendations = recommender.recommend(user_id, n_recommendations)\n",
    "\n",
    "    # Get user ratings\n",
    "    user_ratings = rating_data[rating_data['user'] == user_id]\n",
    "\n",
    "    # Generate and print explanations for each recommendation\n",
    "    for _, recommendation in recommendations.iterrows():\n",
    "        wine_id = recommendation['item']\n",
    "        recommended_wine = wines[wines['item'] == wine_id].iloc[0]\n",
    "        \n",
    "        explanations = generate_personalized_explanation(user_id, recommended_wine, user_ratings, wines)\n",
    "        \n",
    "        print(f\"\\nExplanations for recommended wine (ID: {wine_id}):\")\n",
    "        for feature, explanation in explanations.items():\n",
    "            if explanation:  # Only print non-empty explanations\n",
    "                print(f\"  {feature}: {explanation}\")"
   ]
  },
  {
   "cell_type": "code",
   "execution_count": 37,
   "metadata": {},
   "outputs": [
    {
     "name": "stderr",
     "output_type": "stream",
     "text": [
      "INFO:root:Loading model: user-user\n"
     ]
    },
    {
     "name": "stdout",
     "output_type": "stream",
     "text": [
      "Testing explanations for User ID: 1234318\n",
      "\n",
      "Explanations for recommended wine (ID: 112084.0):\n",
      "  Acidity: You've shown a strong preference for High in acidity, which this wine matches.\n",
      "  ABV: This wine's ABV (12.5%) is similar to your preferred average of 13.4%.\n",
      "  Grapes: This wine features Pinot Noir, Chardonnay grapes, which are also present among your favourite wines.\n",
      "  Harmonize: This wine harmonizes well with Pork, Rich Fish, Shellfish, Soft Cheese, which you've enjoyed in other wines.\n",
      "\n",
      "Explanations for recommended wine (ID: 111415.0):\n",
      "  Acidity: You've shown a strong preference for High in acidity, which this wine matches.\n",
      "  ABV: This wine's ABV (13.0%) is similar to your preferred average of 13.4%.\n",
      "  Grapes: This wine features Merlot, Cabernet Sauvignon grapes, which are also present among your favourite wines.\n",
      "  Harmonize: This wine harmonizes well with Lamb, Beef, Game Meat, Poultry, which you've enjoyed in other wines.\n",
      "\n",
      "Explanations for recommended wine (ID: 113321.0):\n",
      "  Acidity: You've shown a strong preference for High in acidity, which this wine matches.\n",
      "  Grapes: This wine features Chardonnay grapes, which are also present among your favourite wines.\n",
      "  Harmonize: This wine harmonizes well with Pork, Rich Fish, Shellfish, Soft Cheese, which you've enjoyed in other wines.\n",
      "Testing explanations for User ID: 1210668\n",
      "\n",
      "Explanations for recommended wine (ID: 186159.0):\n",
      "  Harmonize: This wine harmonizes well with Hard Cheese, Spicy Food, Lamb, Beef, Maturated Cheese, which you've enjoyed in other wines.\n",
      "\n",
      "Explanations for recommended wine (ID: 112084.0):\n",
      "  Grapes: This wine features Pinot Noir, Chardonnay grapes, which are also present among your favourite wines.\n",
      "  Harmonize: This wine harmonizes well with Pork, Rich Fish, which you've enjoyed in other wines.\n",
      "\n",
      "Explanations for recommended wine (ID: 174184.0):\n",
      "  Type: You've shown a strong preference for Red in type, which this wine matches.\n",
      "  ABV: This wine's ABV (14.5%) is similar to your preferred average of 14.0%.\n",
      "  Harmonize: This wine harmonizes well with Lamb, Beef, Game Meat, Poultry, which you've enjoyed in other wines.\n",
      "Testing explanations for User ID: 1221981\n",
      "\n",
      "Explanations for recommended wine (ID: 194776.0):\n",
      "  Acidity: You've shown a strong preference for High in acidity, which this wine matches.\n",
      "\n",
      "Explanations for recommended wine (ID: 182711.0):\n",
      "  Type: You've shown a strong preference for Red in type, which this wine matches.\n",
      "  Elaborate: You've shown a strong preference for Varietal/100% in elaborate, which this wine matches.\n",
      "  ABV: This wine's ABV (14.3%) is similar to your preferred average of 14.6%.\n",
      "  Grapes: This wine features Cabernet Sauvignon grapes, which are also present among your favourite wines.\n",
      "  Harmonize: This wine harmonizes well with Game Meat, Hard Cheese, Lamb, Beef, Maturated Cheese, Poultry, which you've enjoyed in other wines.\n",
      "\n",
      "Explanations for recommended wine (ID: 112084.0):\n",
      "  Acidity: You've shown a strong preference for High in acidity, which this wine matches.\n",
      "  Harmonize: This wine harmonizes well with Soft Cheese, which you've enjoyed in other wines.\n",
      "Testing explanations for User ID: 1762222\n",
      "\n",
      "Explanations for recommended wine (ID: 108976.0):\n",
      "  Elaborate: You've shown a strong preference for Varietal/100% in elaborate, which this wine matches.\n",
      "  Acidity: You've shown a strong preference for High in acidity, which this wine matches.\n",
      "  Harmonize: This wine harmonizes well with Pork, Spicy Food, Shellfish, Poultry, which you've enjoyed in other wines.\n",
      "\n",
      "Explanations for recommended wine (ID: 194776.0):\n",
      "  Acidity: You've shown a strong preference for High in acidity, which this wine matches.\n",
      "  ABV: This wine's ABV (13.2%) is similar to your preferred average of 12.8%.\n",
      "  Harmonize: This wine harmonizes well with Shellfish, which you've enjoyed in other wines.\n",
      "\n",
      "Explanations for recommended wine (ID: 144337.0):\n",
      "  Elaborate: You've shown a strong preference for Varietal/100% in elaborate, which this wine matches.\n",
      "  Acidity: You've shown a strong preference for High in acidity, which this wine matches.\n",
      "  Harmonize: This wine harmonizes well with Lamb, Beef, Game Meat, which you've enjoyed in other wines.\n",
      "Testing explanations for User ID: 1266541\n",
      "\n",
      "Explanations for recommended wine (ID: 192584.0):\n",
      "  Grapes: This wine features Cabernet Franc grapes, which are also present among your favourite wines.\n",
      "  Harmonize: This wine harmonizes well with Pork, Beef, Game Meat, Poultry, which you've enjoyed in other wines.\n",
      "\n",
      "Explanations for recommended wine (ID: 144337.0):\n",
      "  Harmonize: This wine harmonizes well with Lamb, Beef, Game Meat, which you've enjoyed in other wines.\n",
      "\n",
      "Explanations for recommended wine (ID: 196531.0):\n",
      "  Harmonize: This wine harmonizes well with Sweet Dessert, which you've enjoyed in other wines.\n"
     ]
    }
   ],
   "source": [
    "\n",
    "recommender.load_model(\"user-user\")\n",
    "\n",
    "test_data = ratings_data[['user']].sample(n=5, random_state=42)\n",
    "for user_id in test_data['user']:\n",
    "    test_explanation_generation_for_user(recommender, wines, ratings_data, user_id)"
   ]
  }
 ],
 "metadata": {
  "kernelspec": {
   "display_name": "Python 3",
   "language": "python",
   "name": "python3"
  },
  "language_info": {
   "codemirror_mode": {
    "name": "ipython",
    "version": 3
   },
   "file_extension": ".py",
   "mimetype": "text/x-python",
   "name": "python",
   "nbconvert_exporter": "python",
   "pygments_lexer": "ipython3",
   "version": "3.10.11"
  }
 },
 "nbformat": 4,
 "nbformat_minor": 2
}
