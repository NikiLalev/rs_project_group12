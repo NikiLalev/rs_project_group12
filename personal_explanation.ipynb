{
 "cells": [
  {
   "cell_type": "code",
   "execution_count": 2,
   "metadata": {},
   "outputs": [],
   "source": [
    "import pandas as pd\n",
    "from lenskit import Recommender\n",
    "from lenskit.algorithms.user_knn import UserUser\n",
    "from lenskit.algorithms.item_knn import ItemItem\n",
    "from lenskit.algorithms.bias import Bias\n",
    "\n",
    "import pickle"
   ]
  },
  {
   "cell_type": "code",
   "execution_count": 3,
   "metadata": {},
   "outputs": [
    {
     "name": "stderr",
     "output_type": "stream",
     "text": [
      "C:\\Users\\nikch\\AppData\\Local\\Temp\\ipykernel_3776\\354924845.py:1: DtypeWarning: Columns (3) have mixed types. Specify dtype option on import or set low_memory=False.\n",
      "  ratings = pd.read_csv(\"./dataset/XWines_Slim_150K_ratings.csv\")\n"
     ]
    }
   ],
   "source": [
    "ratings = pd.read_csv(\"./dataset/XWines_Slim_150K_ratings.csv\")\n",
    "wines = pd.read_csv(\"./dataset/XWines_Slim_1K_wines.csv\")"
   ]
  },
  {
   "cell_type": "code",
   "execution_count": 4,
   "metadata": {},
   "outputs": [],
   "source": [
    "ratings = ratings.rename(columns={'UserID': 'user', 'WineID': 'item', 'Rating': 'rating', 'Date': 'timestamp'})\n",
    "wines = wines.rename(columns={'WineID': 'item'})"
   ]
  },
  {
   "cell_type": "code",
   "execution_count": 5,
   "metadata": {},
   "outputs": [],
   "source": [
    "ratings_data = ratings[['user', 'item', 'rating', 'timestamp']]\n"
   ]
  },
  {
   "cell_type": "code",
   "execution_count": 6,
   "metadata": {},
   "outputs": [
    {
     "data": {
      "text/plain": [
       "<bound method NDFrame.head of            user    item  rating            timestamp\n",
       "0       1356810  103471     4.5  2021-11-02 20:52:59\n",
       "1       1173759  111415     5.0  2015-08-20 17:46:26\n",
       "2       1164877  111395     5.0  2020-11-13 05:40:26\n",
       "3       1207665  111433     5.0  2017-05-05 06:44:13\n",
       "4       1075841  111431     5.0  2016-09-14 20:18:38\n",
       "...         ...     ...     ...                  ...\n",
       "149995  1000052  111468     4.5  2021-12-22 21:03:51\n",
       "149996  1180844  111461     4.0  2017-04-23 21:07:55\n",
       "149997  1218581  113690     3.5  2019-04-14 17:45:08\n",
       "149998  1106198  111468     4.5  2021-07-10 07:00:15\n",
       "149999  1059173  111479     5.0  2019-09-08 15:42:28\n",
       "\n",
       "[150000 rows x 4 columns]>"
      ]
     },
     "metadata": {},
     "output_type": "display_data"
    }
   ],
   "source": [
    "display(ratings_data.head)"
   ]
  },
  {
   "cell_type": "code",
   "execution_count": 7,
   "metadata": {},
   "outputs": [],
   "source": [
    "# bias_model = Bias(items=True, users=True, damping=0.0)\n",
    "# recs_bias = Recommender.adapt(bias_model)\n",
    "# recs_bias.fit(ratings_data)"
   ]
  },
  {
   "cell_type": "code",
   "execution_count": 8,
   "metadata": {},
   "outputs": [],
   "source": [
    "# with open('simple_bias_slim.pkl', 'wb') as file:\n",
    "#     pickle.dump(recs_bias, file)"
   ]
  },
  {
   "cell_type": "code",
   "execution_count": 9,
   "metadata": {},
   "outputs": [],
   "source": [
    "# with open('models/simple_uu_slim.pkl', 'rb') as file:\n",
    "#     loaded_recs = pickle.load(file)"
   ]
  },
  {
   "cell_type": "code",
   "execution_count": 11,
   "metadata": {},
   "outputs": [
    {
     "name": "stderr",
     "output_type": "stream",
     "text": [
      "INFO:root:Loading model: user-user\n"
     ]
    },
    {
     "ename": "KeyError",
     "evalue": "\"['item'] not in index\"",
     "output_type": "error",
     "traceback": [
      "\u001b[1;31m---------------------------------------------------------------------------\u001b[0m",
      "\u001b[1;31mKeyError\u001b[0m                                  Traceback (most recent call last)",
      "Cell \u001b[1;32mIn[11], line 10\u001b[0m\n\u001b[0;32m      7\u001b[0m test_data \u001b[38;5;241m=\u001b[39m ratings_data[[\u001b[38;5;124m'\u001b[39m\u001b[38;5;124muser\u001b[39m\u001b[38;5;124m'\u001b[39m]]\u001b[38;5;241m.\u001b[39msample(n\u001b[38;5;241m=\u001b[39m\u001b[38;5;241m5\u001b[39m, random_state\u001b[38;5;241m=\u001b[39m\u001b[38;5;241m42\u001b[39m)\n\u001b[0;32m      9\u001b[0m \u001b[38;5;66;03m# Test the predict method\u001b[39;00m\n\u001b[1;32m---> 10\u001b[0m predictions_df \u001b[38;5;241m=\u001b[39m \u001b[43mrecommender\u001b[49m\u001b[38;5;241;43m.\u001b[39;49m\u001b[43mpredict\u001b[49m\u001b[43m(\u001b[49m\u001b[43mtest_data\u001b[49m\u001b[43m)\u001b[49m\n\u001b[0;32m     11\u001b[0m \u001b[38;5;28mprint\u001b[39m(predictions_df)\n",
      "File \u001b[1;32mc:\\Users\\nikch\\OneDrive\\Desktop\\repos\\rs_project_group12\\Recommender.py:182\u001b[0m, in \u001b[0;36mRecommender.predict\u001b[1;34m(self, df)\u001b[0m\n\u001b[0;32m    180\u001b[0m \u001b[38;5;28;01mif\u001b[39;00m \u001b[38;5;28mself\u001b[39m\u001b[38;5;241m.\u001b[39mcurrent_strategy \u001b[38;5;129;01mis\u001b[39;00m \u001b[38;5;28;01mNone\u001b[39;00m:\n\u001b[0;32m    181\u001b[0m     \u001b[38;5;28;01mraise\u001b[39;00m \u001b[38;5;167;01mValueError\u001b[39;00m(\u001b[38;5;124m\"\u001b[39m\u001b[38;5;124mNo model loaded. Call load_model first.\u001b[39m\u001b[38;5;124m\"\u001b[39m)\n\u001b[1;32m--> 182\u001b[0m \u001b[38;5;28;01mreturn\u001b[39;00m \u001b[38;5;28;43mself\u001b[39;49m\u001b[38;5;241;43m.\u001b[39;49m\u001b[43mcurrent_strategy\u001b[49m\u001b[38;5;241;43m.\u001b[39;49m\u001b[43mpredict\u001b[49m\u001b[43m(\u001b[49m\u001b[43mdf\u001b[49m\u001b[43m)\u001b[49m\n",
      "File \u001b[1;32mc:\\Users\\nikch\\OneDrive\\Desktop\\repos\\rs_project_group12\\Recommender.py:43\u001b[0m, in \u001b[0;36mUserUserRecommender.predict\u001b[1;34m(self, df)\u001b[0m\n\u001b[0;32m     42\u001b[0m \u001b[38;5;28;01mdef\u001b[39;00m \u001b[38;5;21mpredict\u001b[39m(\u001b[38;5;28mself\u001b[39m, df: pd\u001b[38;5;241m.\u001b[39mDataFrame) \u001b[38;5;241m-\u001b[39m\u001b[38;5;241m>\u001b[39m pd\u001b[38;5;241m.\u001b[39mDataFrame:\n\u001b[1;32m---> 43\u001b[0m     \u001b[38;5;28;01mreturn\u001b[39;00m \u001b[38;5;28;43mself\u001b[39;49m\u001b[38;5;241;43m.\u001b[39;49m\u001b[43mmodel\u001b[49m\u001b[38;5;241;43m.\u001b[39;49m\u001b[43mpredict\u001b[49m\u001b[43m(\u001b[49m\u001b[43mdf\u001b[49m\u001b[43m)\u001b[49m\n",
      "File \u001b[1;32m~\\AppData\\Local\\Packages\\PythonSoftwareFoundation.Python.3.10_qbz5n2kfra8p0\\LocalCache\\local-packages\\Python310\\site-packages\\lenskit\\algorithms\\ranking.py:88\u001b[0m, in \u001b[0;36mTopN.predict\u001b[1;34m(self, pairs, ratings)\u001b[0m\n\u001b[0;32m     87\u001b[0m \u001b[38;5;28;01mdef\u001b[39;00m \u001b[38;5;21mpredict\u001b[39m(\u001b[38;5;28mself\u001b[39m, pairs, ratings\u001b[38;5;241m=\u001b[39m\u001b[38;5;28;01mNone\u001b[39;00m):\n\u001b[1;32m---> 88\u001b[0m     \u001b[38;5;28;01mreturn\u001b[39;00m \u001b[38;5;28;43mself\u001b[39;49m\u001b[38;5;241;43m.\u001b[39;49m\u001b[43mpredictor\u001b[49m\u001b[38;5;241;43m.\u001b[39;49m\u001b[43mpredict\u001b[49m\u001b[43m(\u001b[49m\u001b[43mpairs\u001b[49m\u001b[43m,\u001b[49m\u001b[43m \u001b[49m\u001b[43mratings\u001b[49m\u001b[43m)\u001b[49m\n",
      "File \u001b[1;32m~\\AppData\\Local\\Packages\\PythonSoftwareFoundation.Python.3.10_qbz5n2kfra8p0\\LocalCache\\local-packages\\Python310\\site-packages\\lenskit\\algorithms\\__init__.py:111\u001b[0m, in \u001b[0;36mPredictor.predict\u001b[1;34m(self, pairs, ratings)\u001b[0m\n\u001b[0;32m    108\u001b[0m     res \u001b[38;5;241m=\u001b[39m df\u001b[38;5;241m.\u001b[39mjoin(preds, on\u001b[38;5;241m=\u001b[39m\u001b[38;5;124m'\u001b[39m\u001b[38;5;124mitem\u001b[39m\u001b[38;5;124m'\u001b[39m, how\u001b[38;5;241m=\u001b[39m\u001b[38;5;124m'\u001b[39m\u001b[38;5;124mleft\u001b[39m\u001b[38;5;124m'\u001b[39m)\n\u001b[0;32m    109\u001b[0m     \u001b[38;5;28;01mreturn\u001b[39;00m res\u001b[38;5;241m.\u001b[39mprediction\n\u001b[1;32m--> 111\u001b[0m res \u001b[38;5;241m=\u001b[39m \u001b[43mpairs\u001b[49m\u001b[38;5;241;43m.\u001b[39;49m\u001b[43mloc\u001b[49m\u001b[43m[\u001b[49m\u001b[43m:\u001b[49m\u001b[43m,\u001b[49m\u001b[43m \u001b[49m\u001b[43m[\u001b[49m\u001b[38;5;124;43m'\u001b[39;49m\u001b[38;5;124;43muser\u001b[39;49m\u001b[38;5;124;43m'\u001b[39;49m\u001b[43m,\u001b[49m\u001b[43m \u001b[49m\u001b[38;5;124;43m'\u001b[39;49m\u001b[38;5;124;43mitem\u001b[39;49m\u001b[38;5;124;43m'\u001b[39;49m\u001b[43m]\u001b[49m\u001b[43m]\u001b[49m\u001b[38;5;241m.\u001b[39mgroupby(\u001b[38;5;124m'\u001b[39m\u001b[38;5;124muser\u001b[39m\u001b[38;5;124m'\u001b[39m, sort\u001b[38;5;241m=\u001b[39m\u001b[38;5;28;01mFalse\u001b[39;00m)\u001b[38;5;241m.\u001b[39mapply(upred)\n\u001b[0;32m    112\u001b[0m res\u001b[38;5;241m.\u001b[39mreset_index(level\u001b[38;5;241m=\u001b[39m\u001b[38;5;124m'\u001b[39m\u001b[38;5;124muser\u001b[39m\u001b[38;5;124m'\u001b[39m, inplace\u001b[38;5;241m=\u001b[39m\u001b[38;5;28;01mTrue\u001b[39;00m, drop\u001b[38;5;241m=\u001b[39m\u001b[38;5;28;01mTrue\u001b[39;00m)\n\u001b[0;32m    113\u001b[0m res\u001b[38;5;241m.\u001b[39mname \u001b[38;5;241m=\u001b[39m \u001b[38;5;124m'\u001b[39m\u001b[38;5;124mprediction\u001b[39m\u001b[38;5;124m'\u001b[39m\n",
      "File \u001b[1;32m~\\AppData\\Local\\Packages\\PythonSoftwareFoundation.Python.3.10_qbz5n2kfra8p0\\LocalCache\\local-packages\\Python310\\site-packages\\pandas\\core\\indexing.py:1097\u001b[0m, in \u001b[0;36m_LocationIndexer.__getitem__\u001b[1;34m(self, key)\u001b[0m\n\u001b[0;32m   1095\u001b[0m     \u001b[38;5;28;01mif\u001b[39;00m \u001b[38;5;28mself\u001b[39m\u001b[38;5;241m.\u001b[39m_is_scalar_access(key):\n\u001b[0;32m   1096\u001b[0m         \u001b[38;5;28;01mreturn\u001b[39;00m \u001b[38;5;28mself\u001b[39m\u001b[38;5;241m.\u001b[39mobj\u001b[38;5;241m.\u001b[39m_get_value(\u001b[38;5;241m*\u001b[39mkey, takeable\u001b[38;5;241m=\u001b[39m\u001b[38;5;28mself\u001b[39m\u001b[38;5;241m.\u001b[39m_takeable)\n\u001b[1;32m-> 1097\u001b[0m     \u001b[38;5;28;01mreturn\u001b[39;00m \u001b[38;5;28;43mself\u001b[39;49m\u001b[38;5;241;43m.\u001b[39;49m\u001b[43m_getitem_tuple\u001b[49m\u001b[43m(\u001b[49m\u001b[43mkey\u001b[49m\u001b[43m)\u001b[49m\n\u001b[0;32m   1098\u001b[0m \u001b[38;5;28;01melse\u001b[39;00m:\n\u001b[0;32m   1099\u001b[0m     \u001b[38;5;66;03m# we by definition only have the 0th axis\u001b[39;00m\n\u001b[0;32m   1100\u001b[0m     axis \u001b[38;5;241m=\u001b[39m \u001b[38;5;28mself\u001b[39m\u001b[38;5;241m.\u001b[39maxis \u001b[38;5;129;01mor\u001b[39;00m \u001b[38;5;241m0\u001b[39m\n",
      "File \u001b[1;32m~\\AppData\\Local\\Packages\\PythonSoftwareFoundation.Python.3.10_qbz5n2kfra8p0\\LocalCache\\local-packages\\Python310\\site-packages\\pandas\\core\\indexing.py:1289\u001b[0m, in \u001b[0;36m_LocIndexer._getitem_tuple\u001b[1;34m(self, tup)\u001b[0m\n\u001b[0;32m   1286\u001b[0m \u001b[38;5;28;01mif\u001b[39;00m \u001b[38;5;28mself\u001b[39m\u001b[38;5;241m.\u001b[39m_multi_take_opportunity(tup):\n\u001b[0;32m   1287\u001b[0m     \u001b[38;5;28;01mreturn\u001b[39;00m \u001b[38;5;28mself\u001b[39m\u001b[38;5;241m.\u001b[39m_multi_take(tup)\n\u001b[1;32m-> 1289\u001b[0m \u001b[38;5;28;01mreturn\u001b[39;00m \u001b[38;5;28;43mself\u001b[39;49m\u001b[38;5;241;43m.\u001b[39;49m\u001b[43m_getitem_tuple_same_dim\u001b[49m\u001b[43m(\u001b[49m\u001b[43mtup\u001b[49m\u001b[43m)\u001b[49m\n",
      "File \u001b[1;32m~\\AppData\\Local\\Packages\\PythonSoftwareFoundation.Python.3.10_qbz5n2kfra8p0\\LocalCache\\local-packages\\Python310\\site-packages\\pandas\\core\\indexing.py:955\u001b[0m, in \u001b[0;36m_LocationIndexer._getitem_tuple_same_dim\u001b[1;34m(self, tup)\u001b[0m\n\u001b[0;32m    952\u001b[0m \u001b[38;5;28;01mif\u001b[39;00m com\u001b[38;5;241m.\u001b[39mis_null_slice(key):\n\u001b[0;32m    953\u001b[0m     \u001b[38;5;28;01mcontinue\u001b[39;00m\n\u001b[1;32m--> 955\u001b[0m retval \u001b[38;5;241m=\u001b[39m \u001b[38;5;28;43mgetattr\u001b[39;49m\u001b[43m(\u001b[49m\u001b[43mretval\u001b[49m\u001b[43m,\u001b[49m\u001b[43m \u001b[49m\u001b[38;5;28;43mself\u001b[39;49m\u001b[38;5;241;43m.\u001b[39;49m\u001b[43mname\u001b[49m\u001b[43m)\u001b[49m\u001b[38;5;241;43m.\u001b[39;49m\u001b[43m_getitem_axis\u001b[49m\u001b[43m(\u001b[49m\u001b[43mkey\u001b[49m\u001b[43m,\u001b[49m\u001b[43m \u001b[49m\u001b[43maxis\u001b[49m\u001b[38;5;241;43m=\u001b[39;49m\u001b[43mi\u001b[49m\u001b[43m)\u001b[49m\n\u001b[0;32m    956\u001b[0m \u001b[38;5;66;03m# We should never have retval.ndim < self.ndim, as that should\u001b[39;00m\n\u001b[0;32m    957\u001b[0m \u001b[38;5;66;03m#  be handled by the _getitem_lowerdim call above.\u001b[39;00m\n\u001b[0;32m    958\u001b[0m \u001b[38;5;28;01massert\u001b[39;00m retval\u001b[38;5;241m.\u001b[39mndim \u001b[38;5;241m==\u001b[39m \u001b[38;5;28mself\u001b[39m\u001b[38;5;241m.\u001b[39mndim\n",
      "File \u001b[1;32m~\\AppData\\Local\\Packages\\PythonSoftwareFoundation.Python.3.10_qbz5n2kfra8p0\\LocalCache\\local-packages\\Python310\\site-packages\\pandas\\core\\indexing.py:1332\u001b[0m, in \u001b[0;36m_LocIndexer._getitem_axis\u001b[1;34m(self, key, axis)\u001b[0m\n\u001b[0;32m   1329\u001b[0m     \u001b[38;5;28;01mif\u001b[39;00m \u001b[38;5;28mhasattr\u001b[39m(key, \u001b[38;5;124m\"\u001b[39m\u001b[38;5;124mndim\u001b[39m\u001b[38;5;124m\"\u001b[39m) \u001b[38;5;129;01mand\u001b[39;00m key\u001b[38;5;241m.\u001b[39mndim \u001b[38;5;241m>\u001b[39m \u001b[38;5;241m1\u001b[39m:\n\u001b[0;32m   1330\u001b[0m         \u001b[38;5;28;01mraise\u001b[39;00m \u001b[38;5;167;01mValueError\u001b[39;00m(\u001b[38;5;124m\"\u001b[39m\u001b[38;5;124mCannot index with multidimensional key\u001b[39m\u001b[38;5;124m\"\u001b[39m)\n\u001b[1;32m-> 1332\u001b[0m     \u001b[38;5;28;01mreturn\u001b[39;00m \u001b[38;5;28;43mself\u001b[39;49m\u001b[38;5;241;43m.\u001b[39;49m\u001b[43m_getitem_iterable\u001b[49m\u001b[43m(\u001b[49m\u001b[43mkey\u001b[49m\u001b[43m,\u001b[49m\u001b[43m \u001b[49m\u001b[43maxis\u001b[49m\u001b[38;5;241;43m=\u001b[39;49m\u001b[43maxis\u001b[49m\u001b[43m)\u001b[49m\n\u001b[0;32m   1334\u001b[0m \u001b[38;5;66;03m# nested tuple slicing\u001b[39;00m\n\u001b[0;32m   1335\u001b[0m \u001b[38;5;28;01mif\u001b[39;00m is_nested_tuple(key, labels):\n",
      "File \u001b[1;32m~\\AppData\\Local\\Packages\\PythonSoftwareFoundation.Python.3.10_qbz5n2kfra8p0\\LocalCache\\local-packages\\Python310\\site-packages\\pandas\\core\\indexing.py:1272\u001b[0m, in \u001b[0;36m_LocIndexer._getitem_iterable\u001b[1;34m(self, key, axis)\u001b[0m\n\u001b[0;32m   1269\u001b[0m \u001b[38;5;28mself\u001b[39m\u001b[38;5;241m.\u001b[39m_validate_key(key, axis)\n\u001b[0;32m   1271\u001b[0m \u001b[38;5;66;03m# A collection of keys\u001b[39;00m\n\u001b[1;32m-> 1272\u001b[0m keyarr, indexer \u001b[38;5;241m=\u001b[39m \u001b[38;5;28;43mself\u001b[39;49m\u001b[38;5;241;43m.\u001b[39;49m\u001b[43m_get_listlike_indexer\u001b[49m\u001b[43m(\u001b[49m\u001b[43mkey\u001b[49m\u001b[43m,\u001b[49m\u001b[43m \u001b[49m\u001b[43maxis\u001b[49m\u001b[43m)\u001b[49m\n\u001b[0;32m   1273\u001b[0m \u001b[38;5;28;01mreturn\u001b[39;00m \u001b[38;5;28mself\u001b[39m\u001b[38;5;241m.\u001b[39mobj\u001b[38;5;241m.\u001b[39m_reindex_with_indexers(\n\u001b[0;32m   1274\u001b[0m     {axis: [keyarr, indexer]}, copy\u001b[38;5;241m=\u001b[39m\u001b[38;5;28;01mTrue\u001b[39;00m, allow_dups\u001b[38;5;241m=\u001b[39m\u001b[38;5;28;01mTrue\u001b[39;00m\n\u001b[0;32m   1275\u001b[0m )\n",
      "File \u001b[1;32m~\\AppData\\Local\\Packages\\PythonSoftwareFoundation.Python.3.10_qbz5n2kfra8p0\\LocalCache\\local-packages\\Python310\\site-packages\\pandas\\core\\indexing.py:1462\u001b[0m, in \u001b[0;36m_LocIndexer._get_listlike_indexer\u001b[1;34m(self, key, axis)\u001b[0m\n\u001b[0;32m   1459\u001b[0m ax \u001b[38;5;241m=\u001b[39m \u001b[38;5;28mself\u001b[39m\u001b[38;5;241m.\u001b[39mobj\u001b[38;5;241m.\u001b[39m_get_axis(axis)\n\u001b[0;32m   1460\u001b[0m axis_name \u001b[38;5;241m=\u001b[39m \u001b[38;5;28mself\u001b[39m\u001b[38;5;241m.\u001b[39mobj\u001b[38;5;241m.\u001b[39m_get_axis_name(axis)\n\u001b[1;32m-> 1462\u001b[0m keyarr, indexer \u001b[38;5;241m=\u001b[39m \u001b[43max\u001b[49m\u001b[38;5;241;43m.\u001b[39;49m\u001b[43m_get_indexer_strict\u001b[49m\u001b[43m(\u001b[49m\u001b[43mkey\u001b[49m\u001b[43m,\u001b[49m\u001b[43m \u001b[49m\u001b[43maxis_name\u001b[49m\u001b[43m)\u001b[49m\n\u001b[0;32m   1464\u001b[0m \u001b[38;5;28;01mreturn\u001b[39;00m keyarr, indexer\n",
      "File \u001b[1;32m~\\AppData\\Local\\Packages\\PythonSoftwareFoundation.Python.3.10_qbz5n2kfra8p0\\LocalCache\\local-packages\\Python310\\site-packages\\pandas\\core\\indexes\\base.py:5877\u001b[0m, in \u001b[0;36mIndex._get_indexer_strict\u001b[1;34m(self, key, axis_name)\u001b[0m\n\u001b[0;32m   5874\u001b[0m \u001b[38;5;28;01melse\u001b[39;00m:\n\u001b[0;32m   5875\u001b[0m     keyarr, indexer, new_indexer \u001b[38;5;241m=\u001b[39m \u001b[38;5;28mself\u001b[39m\u001b[38;5;241m.\u001b[39m_reindex_non_unique(keyarr)\n\u001b[1;32m-> 5877\u001b[0m \u001b[38;5;28;43mself\u001b[39;49m\u001b[38;5;241;43m.\u001b[39;49m\u001b[43m_raise_if_missing\u001b[49m\u001b[43m(\u001b[49m\u001b[43mkeyarr\u001b[49m\u001b[43m,\u001b[49m\u001b[43m \u001b[49m\u001b[43mindexer\u001b[49m\u001b[43m,\u001b[49m\u001b[43m \u001b[49m\u001b[43maxis_name\u001b[49m\u001b[43m)\u001b[49m\n\u001b[0;32m   5879\u001b[0m keyarr \u001b[38;5;241m=\u001b[39m \u001b[38;5;28mself\u001b[39m\u001b[38;5;241m.\u001b[39mtake(indexer)\n\u001b[0;32m   5880\u001b[0m \u001b[38;5;28;01mif\u001b[39;00m \u001b[38;5;28misinstance\u001b[39m(key, Index):\n\u001b[0;32m   5881\u001b[0m     \u001b[38;5;66;03m# GH 42790 - Preserve name from an Index\u001b[39;00m\n",
      "File \u001b[1;32m~\\AppData\\Local\\Packages\\PythonSoftwareFoundation.Python.3.10_qbz5n2kfra8p0\\LocalCache\\local-packages\\Python310\\site-packages\\pandas\\core\\indexes\\base.py:5941\u001b[0m, in \u001b[0;36mIndex._raise_if_missing\u001b[1;34m(self, key, indexer, axis_name)\u001b[0m\n\u001b[0;32m   5938\u001b[0m     \u001b[38;5;28;01mraise\u001b[39;00m \u001b[38;5;167;01mKeyError\u001b[39;00m(\u001b[38;5;124mf\u001b[39m\u001b[38;5;124m\"\u001b[39m\u001b[38;5;124mNone of [\u001b[39m\u001b[38;5;132;01m{\u001b[39;00mkey\u001b[38;5;132;01m}\u001b[39;00m\u001b[38;5;124m] are in the [\u001b[39m\u001b[38;5;132;01m{\u001b[39;00maxis_name\u001b[38;5;132;01m}\u001b[39;00m\u001b[38;5;124m]\u001b[39m\u001b[38;5;124m\"\u001b[39m)\n\u001b[0;32m   5940\u001b[0m not_found \u001b[38;5;241m=\u001b[39m \u001b[38;5;28mlist\u001b[39m(ensure_index(key)[missing_mask\u001b[38;5;241m.\u001b[39mnonzero()[\u001b[38;5;241m0\u001b[39m]]\u001b[38;5;241m.\u001b[39munique())\n\u001b[1;32m-> 5941\u001b[0m \u001b[38;5;28;01mraise\u001b[39;00m \u001b[38;5;167;01mKeyError\u001b[39;00m(\u001b[38;5;124mf\u001b[39m\u001b[38;5;124m\"\u001b[39m\u001b[38;5;132;01m{\u001b[39;00mnot_found\u001b[38;5;132;01m}\u001b[39;00m\u001b[38;5;124m not in index\u001b[39m\u001b[38;5;124m\"\u001b[39m)\n",
      "\u001b[1;31mKeyError\u001b[0m: \"['item'] not in index\""
     ]
    }
   ],
   "source": [
    "from Recommender import Recommender\n",
    "# Create an instance of the Recommender class\n",
    "recommender = Recommender()\n",
    "recommender.load_model(\"user-user\")\n",
    "\n",
    "# Randomly sample 5 rows from ratings_data\n",
    "test_data = ratings_data[['user']].sample(n=5, random_state=42)\n",
    "\n",
    "# Test the predict method\n",
    "predictions_df = recommender.predict(test_data)\n",
    "print(predictions_df)\n"
   ]
  },
  {
   "cell_type": "code",
   "execution_count": 12,
   "metadata": {},
   "outputs": [
    {
     "name": "stderr",
     "output_type": "stream",
     "text": [
      "INFO:root:Loading model: user-user\n"
     ]
    }
   ],
   "source": [
    "recommender = Recommender()\n",
    "recommender.load_model(\"user-user\")  # or \"item-item\"\n",
    "group_recommendations = recommender.group_recommend(user_ids=[1356810, 1180844], n=5)\n"
   ]
  },
  {
   "cell_type": "code",
   "execution_count": 13,
   "metadata": {},
   "outputs": [
    {
     "name": "stdout",
     "output_type": "stream",
     "text": [
      "     item     score     user\n",
      "0  182711  4.775110  1356810\n",
      "1  183379  4.766891  1356810\n",
      "2  144337  4.766091  1356810\n",
      "3  175514  4.737082  1356810\n",
      "4  192584  4.735993  1356810\n",
      "5  184745  4.634452  1180844\n",
      "6  112664  4.616522  1180844\n",
      "7  104821  4.525125  1180844\n",
      "8  194674  4.500739  1180844\n",
      "9  112084  4.497325  1180844\n"
     ]
    }
   ],
   "source": [
    "print(group_recommendations)"
   ]
  },
  {
   "cell_type": "code",
   "execution_count": 14,
   "metadata": {},
   "outputs": [],
   "source": [
    "from typing import List, Dict\n",
    "\n",
    "def generate_personalized_explanation(user_id: int, recommended_wine: pd.Series, user_ratings: pd.DataFrame, all_wines: pd.DataFrame) -> Dict[str, str]:\n",
    "    \"\"\"\n",
    "    Generate a personalized explanation for a wine recommendation.\n",
    "\n",
    "    Args:\n",
    "        user_id (int): The ID of the user receiving the recommendation.\n",
    "        recommended_wine (pd.Series): The recommended wine's features.\n",
    "        user_ratings (pd.DataFrame): The user's rating history.\n",
    "        all_wines (pd.DataFrame): DataFrame containing all wines and their features.\n",
    "\n",
    "    Returns:\n",
    "        Dict[str, str]: A dictionary of personalized explanations for different features.\n",
    "    \"\"\"\n",
    "    liked_wines = all_wines[all_wines['item'].isin(user_ratings[user_ratings['rating'] >= 4]['item'])]\n",
    "    \n",
    "    explanations = {}\n",
    "    \n",
    "    if len(liked_wines) > 2:\n",
    "        # Function to check if a feature is present in more than 80% of liked wines\n",
    "        def is_frequent_feature(feature_name):\n",
    "            feature_counts = liked_wines[feature_name].value_counts(normalize=True)\n",
    "            return feature_counts[feature_counts >= 0.8].index.tolist()\n",
    "        \n",
    "        # Strategy for string features: Type, Elaborate, Body, Acidity, Country, RegionName, WineryName\n",
    "        string_features = ['Type', 'Elaborate', 'Body', 'Acidity', 'Country', 'RegionName', 'WineryName']\n",
    "        for feature in string_features:\n",
    "            frequent_values = is_frequent_feature(feature)\n",
    "            if recommended_wine[feature] in frequent_values:\n",
    "                explanations[feature] = f\"You've shown a strong preference for {recommended_wine[feature]} in {feature.lower()}, which this wine matches.\"\n",
    "        \n",
    "        # Strategy for ABV\n",
    "        avg_abv = liked_wines['ABV'].mean()\n",
    "        if abs(recommended_wine['ABV'] - avg_abv) <= 1:\n",
    "            explanations['ABV'] = f\"This wine's ABV ({recommended_wine['ABV']}%) is similar to your preferred average of {avg_abv:.1f}%.\"\n",
    "        \n",
    "        # Strategy for Grapes and Harmonize\n",
    "        def process_list_feature(feature_name):\n",
    "            user_items = [item for items in liked_wines[feature_name] for item in items]\n",
    "            recommended_items = recommended_wine[feature_name]\n",
    "            common_items = set(user_items) & set(recommended_items)\n",
    "            if common_items:\n",
    "                if feature_name == 'Grapes':\n",
    "                    return f\"This wine features {', '.join(common_items)} grapes, which are also present among your favourite wines.\"\n",
    "                elif feature_name == 'Harmonize':\n",
    "                    return f\"This wine harmonizes well with {', '.join(common_items)}, which you've enjoyed in other wines.\"\n",
    "\n",
    "            return None\n",
    "        \n",
    "        for feature in ['Grapes', 'Harmonize']:\n",
    "            explanation = process_list_feature(feature)\n",
    "            if explanation:\n",
    "                explanations[feature] = explanation\n",
    "    \n",
    "    else:\n",
    "        explanations['general'] = \"We don't have enough information about your preferences yet, but we think you might enjoy this wine based on its overall characteristics.\"\n",
    "    \n",
    "    return explanations"
   ]
  },
  {
   "cell_type": "code",
   "execution_count": 15,
   "metadata": {},
   "outputs": [],
   "source": [
    "import ast\n",
    "\n",
    "wines['Grapes'] = wines['Grapes'].apply(lambda x: ast.literal_eval(x) if isinstance(x, str) else x)\n",
    "wines['Harmonize'] = wines['Harmonize'].apply(lambda x: ast.literal_eval(x) if isinstance(x, str) else x)"
   ]
  },
  {
   "cell_type": "code",
   "execution_count": 16,
   "metadata": {},
   "outputs": [],
   "source": [
    "def test_explanation_generation_for_user(recommender: Recommender, wines: pd.DataFrame, rating_data: pd.DataFrame, user_id: int):\n",
    "    \"\"\"\n",
    "    Test the generate_personalized_explanation function for a specific user.\n",
    "\n",
    "    Args:\n",
    "        recommender (Recommender): An instance of the Recommender class.\n",
    "        wines (pd.DataFrame): DataFrame containing all wines and their features.\n",
    "        rating_data (pd.DataFrame): DataFrame containing all users' ratings.\n",
    "        user_id (int): The specific user ID to test.\n",
    "    \"\"\"\n",
    "    print(f\"Testing explanations for User ID: {user_id}\")\n",
    "\n",
    "    # Generate recommendations for this user\n",
    "    n_recommendations = 3\n",
    "    recommendations = recommender.recommend(user_id, n_recommendations)\n",
    "\n",
    "    # Get user ratings\n",
    "    user_ratings = rating_data[rating_data['user'] == user_id]\n",
    "\n",
    "    # Generate and print explanations for each recommendation\n",
    "    for _, recommendation in recommendations.iterrows():\n",
    "        wine_id = recommendation['item']\n",
    "        recommended_wine = wines[wines['item'] == wine_id].iloc[0]\n",
    "        \n",
    "        explanations = generate_personalized_explanation(user_id, recommended_wine, user_ratings, wines)\n",
    "        \n",
    "        print(f\"\\nExplanations for recommended wine (ID: {wine_id}):\")\n",
    "        for feature, explanation in explanations.items():\n",
    "            if explanation:  # Only print non-empty explanations\n",
    "                print(f\"  {feature}: {explanation}\")"
   ]
  },
  {
   "cell_type": "code",
   "execution_count": 17,
   "metadata": {},
   "outputs": [
    {
     "name": "stderr",
     "output_type": "stream",
     "text": [
      "INFO:root:Loading model: user-user\n"
     ]
    },
    {
     "name": "stdout",
     "output_type": "stream",
     "text": [
      "Testing explanations for User ID: 1234318\n",
      "\n",
      "Explanations for recommended wine (ID: 112084.0):\n",
      "  Acidity: You've shown a strong preference for High in acidity, which this wine matches.\n",
      "  ABV: This wine's ABV (12.5%) is similar to your preferred average of 13.4%.\n",
      "  Grapes: This wine features Chardonnay, Pinot Noir grapes, which are also present among your favourite wines.\n",
      "  Harmonize: This wine harmonizes well with Soft Cheese, Rich Fish, Shellfish, Pork, which you've enjoyed in other wines.\n",
      "\n",
      "Explanations for recommended wine (ID: 111415.0):\n",
      "  Acidity: You've shown a strong preference for High in acidity, which this wine matches.\n",
      "  ABV: This wine's ABV (13.0%) is similar to your preferred average of 13.4%.\n",
      "  Grapes: This wine features Merlot, Cabernet Sauvignon grapes, which are also present among your favourite wines.\n",
      "  Harmonize: This wine harmonizes well with Lamb, Game Meat, Poultry, Beef, which you've enjoyed in other wines.\n",
      "\n",
      "Explanations for recommended wine (ID: 113321.0):\n",
      "  Acidity: You've shown a strong preference for High in acidity, which this wine matches.\n",
      "  Grapes: This wine features Chardonnay grapes, which are also present among your favourite wines.\n",
      "  Harmonize: This wine harmonizes well with Soft Cheese, Rich Fish, Shellfish, Pork, which you've enjoyed in other wines.\n",
      "Testing explanations for User ID: 1210668\n",
      "\n",
      "Explanations for recommended wine (ID: 186159.0):\n",
      "  Harmonize: This wine harmonizes well with Beef, Spicy Food, Lamb, Hard Cheese, Maturated Cheese, which you've enjoyed in other wines.\n",
      "\n",
      "Explanations for recommended wine (ID: 112084.0):\n",
      "  Grapes: This wine features Chardonnay, Pinot Noir grapes, which are also present among your favourite wines.\n",
      "  Harmonize: This wine harmonizes well with Rich Fish, Pork, which you've enjoyed in other wines.\n",
      "\n",
      "Explanations for recommended wine (ID: 174184.0):\n",
      "  Type: You've shown a strong preference for Red in type, which this wine matches.\n",
      "  ABV: This wine's ABV (14.5%) is similar to your preferred average of 14.0%.\n",
      "  Harmonize: This wine harmonizes well with Lamb, Game Meat, Poultry, Beef, which you've enjoyed in other wines.\n",
      "Testing explanations for User ID: 1221981\n",
      "\n",
      "Explanations for recommended wine (ID: 194776.0):\n",
      "  Acidity: You've shown a strong preference for High in acidity, which this wine matches.\n",
      "\n",
      "Explanations for recommended wine (ID: 182711.0):\n",
      "  Type: You've shown a strong preference for Red in type, which this wine matches.\n",
      "  Elaborate: You've shown a strong preference for Varietal/100% in elaborate, which this wine matches.\n",
      "  ABV: This wine's ABV (14.3%) is similar to your preferred average of 14.6%.\n",
      "  Grapes: This wine features Cabernet Sauvignon grapes, which are also present among your favourite wines.\n",
      "  Harmonize: This wine harmonizes well with Game Meat, Beef, Lamb, Poultry, Hard Cheese, Maturated Cheese, which you've enjoyed in other wines.\n",
      "\n",
      "Explanations for recommended wine (ID: 112084.0):\n",
      "  Acidity: You've shown a strong preference for High in acidity, which this wine matches.\n",
      "  Harmonize: This wine harmonizes well with Soft Cheese, which you've enjoyed in other wines.\n",
      "Testing explanations for User ID: 1762222\n",
      "\n",
      "Explanations for recommended wine (ID: 108976.0):\n",
      "  Elaborate: You've shown a strong preference for Varietal/100% in elaborate, which this wine matches.\n",
      "  Acidity: You've shown a strong preference for High in acidity, which this wine matches.\n",
      "  Harmonize: This wine harmonizes well with Poultry, Pork, Shellfish, Spicy Food, which you've enjoyed in other wines.\n",
      "\n",
      "Explanations for recommended wine (ID: 194776.0):\n",
      "  Acidity: You've shown a strong preference for High in acidity, which this wine matches.\n",
      "  ABV: This wine's ABV (13.2%) is similar to your preferred average of 12.8%.\n",
      "  Harmonize: This wine harmonizes well with Shellfish, which you've enjoyed in other wines.\n",
      "\n",
      "Explanations for recommended wine (ID: 144337.0):\n",
      "  Elaborate: You've shown a strong preference for Varietal/100% in elaborate, which this wine matches.\n",
      "  Acidity: You've shown a strong preference for High in acidity, which this wine matches.\n",
      "  Harmonize: This wine harmonizes well with Lamb, Game Meat, Beef, which you've enjoyed in other wines.\n",
      "Testing explanations for User ID: 1266541\n",
      "\n",
      "Explanations for recommended wine (ID: 192584.0):\n",
      "  Grapes: This wine features Cabernet Franc grapes, which are also present among your favourite wines.\n",
      "  Harmonize: This wine harmonizes well with Game Meat, Poultry, Beef, Pork, which you've enjoyed in other wines.\n",
      "\n",
      "Explanations for recommended wine (ID: 144337.0):\n",
      "  Harmonize: This wine harmonizes well with Lamb, Game Meat, Beef, which you've enjoyed in other wines.\n",
      "\n",
      "Explanations for recommended wine (ID: 196531.0):\n",
      "  Harmonize: This wine harmonizes well with Sweet Dessert, which you've enjoyed in other wines.\n"
     ]
    }
   ],
   "source": [
    "\n",
    "recommender.load_model(\"user-user\")\n",
    "\n",
    "test_data = ratings_data[['user']].sample(n=5, random_state=42)\n",
    "for user_id in test_data['user']:\n",
    "    test_explanation_generation_for_user(recommender, wines, ratings_data, user_id)"
   ]
  },
  {
   "cell_type": "code",
   "execution_count": 29,
   "metadata": {},
   "outputs": [],
   "source": [
    "import random\n",
    "\n",
    "def random_explanation(recommended_wine: pd.Series) -> str:\n",
    "    \"\"\"\n",
    "    Generate a random explanation for a wine recommendation.\n",
    "\n",
    "    Args:\n",
    "        recommended_wine (pd.Series): The recommended wine's features.\n",
    "\n",
    "    Returns:\n",
    "        str: A randomly generated explanation for the wine recommendation.\n",
    "    \"\"\"\n",
    "    explanation_types = [\n",
    "        lambda: f\"We recommend this wine because it's a {recommended_wine['Type'].lower()} wine which you might like.\",\n",
    "        lambda: f\"This wine has an ABV of {recommended_wine['ABV']}%, which many people enjoy.\",\n",
    "        lambda: f\"Coming from {recommended_wine['Country']}, this wine offers a unique taste experience.\",\n",
    "        lambda: f\"The {recommended_wine['Acidity'].lower()} acidity of this wine complements many dishes.\",\n",
    "        lambda: f\"This wine features {', '.join(recommended_wine['Grapes'][:2])} grapes, creating a delightful flavor profile.\",\n",
    "        lambda: f\"Many people have enjoyed wines from the {recommended_wine['RegionName']} region.\",\n",
    "        lambda: f\"The {recommended_wine['Elaborate']} wine has received positive feedback from other users.\",\n",
    "        lambda: f\"The {recommended_wine['WineryName']} winery is known for producing high-quality wines.\",\n",
    "        lambda: f\"This wine pairs well with {', '.join(recommended_wine['Harmonize'][:2])}, making it versatile for various occasions.\"\n",
    "    ]\n",
    "\n",
    "    # Randomly select 1 to 3 explanations\n",
    "    num_explanations = random.randint(1, 3)\n",
    "    selected_explanations = random.sample(explanation_types, num_explanations)\n",
    "    \n",
    "    return \" \".join(explanation() for explanation in selected_explanations)"
   ]
  },
  {
   "cell_type": "code",
   "execution_count": 31,
   "metadata": {},
   "outputs": [],
   "source": [
    "def test_random_explanation_generation(recommender: Recommender, wines: pd.DataFrame, rating_data: pd.DataFrame, num_users: int = 5):\n",
    "    \"\"\"\n",
    "    Test the random_explanation function for a set of random users.\n",
    "\n",
    "    Args:\n",
    "        recommender (Recommender): An instance of the Recommender class.\n",
    "        wines (pd.DataFrame): DataFrame containing all wines and their features.\n",
    "        rating_data (pd.DataFrame): DataFrame containing all users' ratings.\n",
    "        num_users (int): The number of random users to test.\n",
    "    \"\"\"\n",
    "    print(f\"Testing random explanations for {num_users} users\")\n",
    "\n",
    "    # Get random user IDs\n",
    "    random_users = rating_data['user'].sample(n=num_users, random_state=42)\n",
    "\n",
    "    for user_id in random_users:\n",
    "        print(f\"\\nTesting explanations for User ID: {user_id}\")\n",
    "\n",
    "        # Generate recommendations for this user\n",
    "        n_recommendations = 3\n",
    "        recommendations = recommender.recommend(user_id, n_recommendations)\n",
    "\n",
    "        # Generate and print random explanations for each recommendation\n",
    "        for _, recommendation in recommendations.iterrows():\n",
    "            wine_id = recommendation['item']\n",
    "            recommended_wine = wines[wines['item'] == wine_id].iloc[0]\n",
    "            \n",
    "            explanation = random_explanation(recommended_wine)\n",
    "            \n",
    "            print(f\"\\nRandom explanation for recommended wine (ID: {wine_id}):\")\n",
    "            print(f\"  {explanation}\")\n"
   ]
  },
  {
   "cell_type": "code",
   "execution_count": 32,
   "metadata": {},
   "outputs": [
    {
     "name": "stdout",
     "output_type": "stream",
     "text": [
      "Testing random explanations for 5 users\n",
      "\n",
      "Testing explanations for User ID: 1234318\n",
      "\n",
      "Random explanation for recommended wine (ID: 112084.0):\n",
      "  We recommend this wine because it's a sparkling wine which you might like.\n",
      "\n",
      "Random explanation for recommended wine (ID: 111415.0):\n",
      "  Coming from France, this wine offers a unique taste experience. The high acidity of this wine complements many dishes. The Assemblage/Bordeaux Red Blend wine has received positive feedback from other users.\n",
      "\n",
      "Random explanation for recommended wine (ID: 113321.0):\n",
      "  We recommend this wine because it's a sparkling wine which you might like. The high acidity of this wine complements many dishes.\n",
      "\n",
      "Testing explanations for User ID: 1210668\n",
      "\n",
      "Random explanation for recommended wine (ID: 186159.0):\n",
      "  This wine features Syrah/Shiraz grapes, creating a delightful flavor profile.\n",
      "\n",
      "Random explanation for recommended wine (ID: 112084.0):\n",
      "  The high acidity of this wine complements many dishes. The Assemblage/Blend wine has received positive feedback from other users.\n",
      "\n",
      "Random explanation for recommended wine (ID: 174184.0):\n",
      "  This wine pairs well with Beef, Lamb, making it versatile for various occasions. Many people have enjoyed wines from the South Australia region.\n",
      "\n",
      "Testing explanations for User ID: 1221981\n",
      "\n",
      "Random explanation for recommended wine (ID: 194776.0):\n",
      "  The Venetsanos winery is known for producing high-quality wines.\n",
      "\n",
      "Random explanation for recommended wine (ID: 182711.0):\n",
      "  The Varietal/100% wine has received positive feedback from other users. This wine features Cabernet Sauvignon grapes, creating a delightful flavor profile.\n",
      "\n",
      "Random explanation for recommended wine (ID: 112084.0):\n",
      "  The Assemblage/Blend wine has received positive feedback from other users. The Dom Pérignon winery is known for producing high-quality wines. Many people have enjoyed wines from the Champagne region.\n",
      "\n",
      "Testing explanations for User ID: 1762222\n",
      "\n",
      "Random explanation for recommended wine (ID: 108976.0):\n",
      "  Many people have enjoyed wines from the Mosel region. Coming from Germany, this wine offers a unique taste experience. We recommend this wine because it's a white wine which you might like.\n",
      "\n",
      "Random explanation for recommended wine (ID: 194776.0):\n",
      "  The Venetsanos winery is known for producing high-quality wines. This wine features Assyrtiko, Aidani grapes, creating a delightful flavor profile. Many people have enjoyed wines from the Santorini region.\n",
      "\n",
      "Random explanation for recommended wine (ID: 144337.0):\n",
      "  The Varietal/100% wine has received positive feedback from other users. The Berta winery is known for producing high-quality wines. This wine has an ABV of 43.0%, which many people enjoy.\n",
      "\n",
      "Testing explanations for User ID: 1266541\n",
      "\n",
      "Random explanation for recommended wine (ID: 192584.0):\n",
      "  This wine has an ABV of 14.5%, which many people enjoy.\n",
      "\n",
      "Random explanation for recommended wine (ID: 144337.0):\n",
      "  Many people have enjoyed wines from the Piemonte region. The Berta winery is known for producing high-quality wines.\n",
      "\n",
      "Random explanation for recommended wine (ID: 196531.0):\n",
      "  The high acidity of this wine complements many dishes.\n"
     ]
    }
   ],
   "source": [
    "test_random_explanation_generation(recommender, wines, ratings_data, num_users=5)"
   ]
  }
 ],
 "metadata": {
  "kernelspec": {
   "display_name": "Python 3",
   "language": "python",
   "name": "python3"
  },
  "language_info": {
   "codemirror_mode": {
    "name": "ipython",
    "version": 3
   },
   "file_extension": ".py",
   "mimetype": "text/x-python",
   "name": "python",
   "nbconvert_exporter": "python",
   "pygments_lexer": "ipython3",
   "version": "3.10.11"
  }
 },
 "nbformat": 4,
 "nbformat_minor": 2
}
