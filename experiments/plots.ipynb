{
 "cells": [
  {
   "cell_type": "code",
   "execution_count": null,
   "metadata": {},
   "outputs": [],
   "source": [
    "models = ['Decision Tree', 'Item-Item', 'User-User', 'Random Baseline']\n",
    "metrics = ['Accuracy', 'Precision', 'Recall', 'F1-Score', 'nDCG@10', 'Coverage@10', 'Coverage@100']\n",
    "\n",
    "results = {\n",
    "    'Decision Tree': {\n",
    "        'Accuracy': 0.486,\n",
    "        'Precision': 0.477,\n",
    "        'Recall': 0.474,\n",
    "        'F1-Score': 0.475,\n",
    "        'nDCG@10': 0.755,\n",
    "        'Coverage@10': 0.981,\n",
    "        'Coverage@100': 1.0\n",
    "    },\n",
    "    'Item-Item': {\n",
    "        'Accuracy': 0.655,\n",
    "        'Precision': 0.661,\n",
    "        'Recall': 0.641,\n",
    "        'F1-Score': 0.648,\n",
    "        'nDCG@10': 0.817,\n",
    "        'Coverage@10': 0.4974,\n",
    "        'Coverage@100': 0.9046\n",
    "    },\n",
    "    'User-User': {\n",
    "        'Accuracy': 0.594,\n",
    "        'Precision': 0.601,\n",
    "        'Recall': 0.569,\n",
    "        'F1-Score': 0.576,\n",
    "        'nDCG@10': 0.807,\n",
    "        'Coverage@10': 0.4739,\n",
    "        'Coverage@100': 0.8323\n",
    "    }, \n",
    "    'Random Baseline': {\n",
    "        'Accuracy': 0.301,\n",
    "        'Precision': 0.3161,\n",
    "        'Recall': 0.3129,\n",
    "        'F1-Score': 0.300,\n",
    "        'nDCG@10': 0.7265,\n",
    "        'Coverage@10': 0.0,\n",
    "        'Coverage@100': 0.0\n",
    "    }\n",
    "}\n"
   ]
  }
 ],
 "metadata": {
  "language_info": {
   "name": "python"
  }
 },
 "nbformat": 4,
 "nbformat_minor": 2
}
