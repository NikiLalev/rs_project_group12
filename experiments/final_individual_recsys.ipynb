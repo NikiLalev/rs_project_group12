{
 "cells": [
  {
   "cell_type": "markdown",
   "metadata": {},
   "source": [
    "# Final Individual Recommender System"
   ]
  },
  {
   "cell_type": "markdown",
   "metadata": {},
   "source": [
    "# Importing the Datasets"
   ]
  },
  {
   "cell_type": "code",
   "execution_count": 1,
   "metadata": {},
   "outputs": [],
   "source": [
    "import pandas as pd\n",
    "import numpy as np\n",
    "import os\n",
    "import seaborn as sns\n",
    "import matplotlib.pyplot as plt"
   ]
  },
  {
   "cell_type": "code",
   "execution_count": 2,
   "metadata": {},
   "outputs": [
    {
     "name": "stderr",
     "output_type": "stream",
     "text": [
      "/var/folders/9n/hfw66rw97sl45x98mmd_vs4r0000gn/T/ipykernel_48236/1459283311.py:2: DtypeWarning: Columns (3) have mixed types. Specify dtype option on import or set low_memory=False.\n",
      "  ratings_df_slim = pd.read_csv('../dataset/XWines_Slim_150K_ratings.csv')\n",
      "/var/folders/9n/hfw66rw97sl45x98mmd_vs4r0000gn/T/ipykernel_48236/1459283311.py:3: DtypeWarning: Columns (3) have mixed types. Specify dtype option on import or set low_memory=False.\n",
      "  ratings_df_full = pd.read_csv('../dataset/XWines_Full_21M_ratings.csv')\n"
     ]
    }
   ],
   "source": [
    "# Load the ratings data\n",
    "ratings_df_slim = pd.read_csv('../dataset/XWines_Slim_150K_ratings.csv')\n",
    "ratings_df_full = pd.read_csv('../dataset/XWines_Full_21M_ratings.csv')\n",
    "\n",
    "# Load the wines data\n",
    "wines_df_slim = pd.read_csv('../dataset/XWines_Slim_1K_wines.csv')\n",
    "wines_df_full = pd.read_csv('../dataset/XWines_Full_100K_wines.csv')\n"
   ]
  },
  {
   "cell_type": "markdown",
   "metadata": {},
   "source": [
    "# Data Pre-Processing"
   ]
  },
  {
   "cell_type": "code",
   "execution_count": 3,
   "metadata": {},
   "outputs": [],
   "source": [
    "# Dropping some of the Columns in the wines_df\n",
    "# Some are irrelevant for analysis (like the website) and some will just be repeated info (like the Code and Country)\n",
    "wine_columns_to_drop_repeated = ['Website', 'Code', 'RegionID', 'WineryID']\n",
    "wines_df_slim.drop(columns=wine_columns_to_drop_repeated, inplace=True)\n",
    "wines_df_full.drop(columns=wine_columns_to_drop_repeated, inplace=True)"
   ]
  },
  {
   "cell_type": "code",
   "execution_count": 4,
   "metadata": {},
   "outputs": [],
   "source": [
    "# Dropping the Features we will not use for ML due to the extremely high dimensionality\n",
    "wine_columns_to_drop_high_dimensionality = ['Grapes']\n",
    "wines_df_slim.drop(columns=wine_columns_to_drop_high_dimensionality, inplace=True)\n",
    "wines_df_full.drop(columns=wine_columns_to_drop_high_dimensionality, inplace=True)"
   ]
  },
  {
   "cell_type": "code",
   "execution_count": 7,
   "metadata": {},
   "outputs": [],
   "source": [
    "# Convert string to list\n",
    "import ast\n",
    "\n",
    "wines_df_slim['Harmonize'] = wines_df_slim['Harmonize'].apply(lambda x: ast.literal_eval(x) if isinstance(x, str) else x)\n",
    "wines_df_slim['Vintages'] = wines_df_slim['Vintages'].apply(lambda x: ast.literal_eval(x) if isinstance(x, str) else x)\n",
    "wines_df_slim['Vintages'] = wines_df_slim['Vintages'].apply(lambda x: [int(v) for v in ast.literal_eval(x)] if isinstance(x, str) else x)\n",
    "\n",
    "wines_df_full['Harmonize'] = wines_df_full['Harmonize'].apply(lambda x: ast.literal_eval(x) if isinstance(x, str) else x)\n",
    "wines_df_full['Vintages'] = wines_df_full['Vintages'].apply(lambda x: ast.literal_eval(x) if isinstance(x, str) else x)\n",
    "wines_df_full['Vintages'] = wines_df_full['Vintages'].apply(lambda x: [int(v) for v in ast.literal_eval(x)] if isinstance(x, str) else x)"
   ]
  },
  {
   "cell_type": "code",
   "execution_count": 8,
   "metadata": {},
   "outputs": [],
   "source": [
    "# Processing Vintages\n",
    "def process_vintages(vintages):\n",
    "    # Remove \"N.V.\" from the list\n",
    "    filtered_vintages = [vintage for vintage in vintages if vintage != \"N.V.\"]\n",
    "\n",
    "    # Calculate the number of vintages\n",
    "    num_vintages = len(filtered_vintages)\n",
    "\n",
    "    # Find the oldest and most recent vintages\n",
    "    oldest_vintage = min(filtered_vintages) if filtered_vintages else 0\n",
    "    most_recent_vintage = max(filtered_vintages) if filtered_vintages else 0\n",
    "    vintage_range = most_recent_vintage - oldest_vintage\n",
    "\n",
    "    return num_vintages, oldest_vintage, most_recent_vintage, vintage_range\n",
    "\n",
    "# Apply the function to each row\n",
    "wines_df_slim[['num_vintages', 'oldest_vintage', 'most_recent_vintage', 'vintage_range']] = wines_df_slim['Vintages'].apply(process_vintages).tolist()\n",
    "wines_df_full[['num_vintages', 'oldest_vintage', 'most_recent_vintage', 'vintage_range']] = wines_df_full['Vintages'].apply(process_vintages).tolist()"
   ]
  },
  {
   "cell_type": "code",
   "execution_count": 10,
   "metadata": {},
   "outputs": [],
   "source": [
    "#some renaming if we want to use the lenskit later:\n",
    "ratings_df_slim = ratings_df_slim.rename(columns={'UserID': 'user', 'WineID': 'item', 'Rating': 'rating', 'Date': 'timestamp'})\n",
    "ratings_df_full = ratings_df_full.rename(columns={'UserID': 'user', 'WineID': 'item', 'Rating': 'rating', 'Date': 'timestamp'})\n",
    "\n",
    "\n",
    "wines_df_slim = wines_df_slim.rename(columns={'WineID': 'item'})\n",
    "wines_df_full = wines_df_full.rename(columns={'WineID': 'item'})"
   ]
  },
  {
   "cell_type": "code",
   "execution_count": 11,
   "metadata": {},
   "outputs": [],
   "source": [
    "# Explode 'Harmonize' column into individual rows\n",
    "wines_exploded = wines_df_slim.explode('Harmonize')\n",
    "\n",
    "# One-hot encode the 'Harmonize' column with the desired prefix\n",
    "harmonize_one_hot = pd.get_dummies(wines_exploded['Harmonize'], prefix='harmonize_with')\n",
    "\n",
    "# Group by 'item' and sum to combine back into single rows per item\n",
    "harmonize_one_hot_grouped = harmonize_one_hot.groupby(wines_exploded['item']).sum()\n",
    "\n",
    "# Merge the one-hot encodings with the original DataFrame\n",
    "wines_df_slim = wines_df_slim.merge(harmonize_one_hot_grouped, left_on='item', right_index=True, how='left')\n",
    "wines_df_full = wines_df_full.merge(harmonize_one_hot_grouped, left_on='item', right_index=True, how='left')"
   ]
  },
  {
   "cell_type": "markdown",
   "metadata": {},
   "source": [
    "Content Based First: Diversity, Cold-Start Problem,  "
   ]
  }
 ],
 "metadata": {
  "kernelspec": {
   "display_name": "recsys",
   "language": "python",
   "name": "python3"
  },
  "language_info": {
   "codemirror_mode": {
    "name": "ipython",
    "version": 3
   },
   "file_extension": ".py",
   "mimetype": "text/x-python",
   "name": "python",
   "nbconvert_exporter": "python",
   "pygments_lexer": "ipython3",
   "version": "3.11.10"
  }
 },
 "nbformat": 4,
 "nbformat_minor": 2
}
